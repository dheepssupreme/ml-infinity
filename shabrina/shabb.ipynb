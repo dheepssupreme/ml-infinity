{
 "cells": [
  {
   "cell_type": "code",
   "execution_count": 1,
   "metadata": {},
   "outputs": [
    {
     "name": "stdout",
     "output_type": "stream",
     "text": [
      "shabrina\n"
     ]
    },
    {
     "data": {
      "text/plain": [
       "'diki'"
      ]
     },
     "execution_count": 1,
     "metadata": {},
     "output_type": "execute_result"
    }
   ],
   "source": [
    "def data ():\n",
    "    nama1 = \"shabrina\"\n",
    "    nama2 = \"diki\"\n",
    "    print (nama1)\n",
    "    return(nama2)\n",
    "\n",
    "data()\n"
   ]
  },
  {
   "cell_type": "code",
   "execution_count": 34,
   "metadata": {},
   "outputs": [
    {
     "name": "stdout",
     "output_type": "stream",
     "text": [
      "('diki', 18)\n",
      "('shabrina', 18)\n"
     ]
    },
    {
     "data": {
      "text/plain": [
       "('shabrina', 18)"
      ]
     },
     "execution_count": 34,
     "metadata": {},
     "output_type": "execute_result"
    }
   ],
   "source": [
    "def data (nama,umur):\n",
    "    data_diki = nama,umur\n",
    "    data_shabrina = nama,umur\n",
    "    print (data_diki)\n",
    "    return(data_shabrina)\n",
    "\n",
    "data(\"diki\",18)\n",
    "data(\"shabrina\",18)\n",
    "\n",
    "\n"
   ]
  },
  {
   "cell_type": "code",
   "execution_count": null,
   "metadata": {},
   "outputs": [],
   "source": []
  },
  {
   "cell_type": "code",
   "execution_count": 11,
   "metadata": {},
   "outputs": [
    {
     "data": {
      "text/plain": [
       "10000"
      ]
     },
     "execution_count": 11,
     "metadata": {},
     "output_type": "execute_result"
    }
   ],
   "source": [
    "def beli(harga,jumlah):\n",
    "    beli = harga*jumlah\n",
    "    return (beli)\n",
    "\n",
    "beli(5000,2)"
   ]
  },
  {
   "cell_type": "code",
   "execution_count": 2,
   "metadata": {},
   "outputs": [
    {
     "data": {
      "text/plain": [
       "15"
      ]
     },
     "execution_count": 2,
     "metadata": {},
     "output_type": "execute_result"
    }
   ],
   "source": [
    "def luas_persegi(panjang,lebar):\n",
    "    persegi = panjang*lebar\n",
    "    return (persegi)\n",
    "\n",
    "luas_persegi (5,3)"
   ]
  }
 ],
 "metadata": {
  "kernelspec": {
   "display_name": "Python 3",
   "language": "python",
   "name": "python3"
  },
  "language_info": {
   "codemirror_mode": {
    "name": "ipython",
    "version": 3
   },
   "file_extension": ".py",
   "mimetype": "text/x-python",
   "name": "python",
   "nbconvert_exporter": "python",
   "pygments_lexer": "ipython3",
   "version": "3.10.11"
  }
 },
 "nbformat": 4,
 "nbformat_minor": 2
}
